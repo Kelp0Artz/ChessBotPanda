{
 "cells": [
  {
   "cell_type": "code",
   "execution_count": null,
   "metadata": {},
   "outputs": [],
   "source": [
    "import pandas as pd\n",
    "DF = pd.read_csv('Dataset/converted/lichess_db_standard_rated_2015-04.csv')\n",
    "print(DF['WhiteElo'].mean())\n",
    "print(DF['BlackElo'].mean())\n",
    "print(DF['BlackElo'].max())\n",
    "print(DF['WhiteElo'].max())\n"
   ]
  },
  {
   "cell_type": "code",
   "execution_count": null,
   "metadata": {},
   "outputs": [],
   "source": [
    "counter = 0 \n",
    "for _, row in DF.iterrows():\n",
    "    if row['Moves'] == row['Moves']:\n",
    "        total_moves = len(row['Moves'].split())\n",
    "        if total_moves < 3:\n",
    "            counter += 1\n",
    "print(counter)\n",
    "\n"
   ]
  },
  {
   "cell_type": "code",
   "execution_count": null,
   "metadata": {},
   "outputs": [],
   "source": [
    "import h5py\n",
    "\n",
    "class ChessEngine:\n",
    "    def read_first_game(self, inputFilePath):\n",
    "        try:\n",
    "            with h5py.File(inputFilePath, 'r') as file:\n",
    "                # Read metadata\n",
    "                dataset_name = file.attrs.get('name', 'Unknown Dataset')\n",
    "                num_games = file.attrs.get('numberOfGames', 0)\n",
    "                print(f\"Dataset name: {dataset_name}\")\n",
    "                print(f\"Number of games: {num_games}\")\n",
    "                \n",
    "                # Access the first game in the 'games' group\n",
    "                games_group = file['games']\n",
    "                first_game_key = list(games_group.keys())[1]  # Get the first game's key\n",
    "                first_game_group = games_group[first_game_key]\n",
    "                \n",
    "                # Read attributes of the first game\n",
    "                average_elo = first_game_group.attrs.get('averageElo', 'N/A')\n",
    "                white_won = first_game_group.attrs.get('whiteWon', 'N/A')\n",
    "                moves = first_game_group['moves'][()]  # Read the 'moves' dataset\n",
    "                moves_splited = moves.decode('utf-8').split()\n",
    "                \n",
    "\n",
    "                print(f\"First Game: {first_game_key}\")\n",
    "                print(f\"Average Elo: {average_elo}\")\n",
    "                print(f\"White Won: {white_won}\")\n",
    "                print(f\"Moves: {moves_splited}\")\n",
    "                \n",
    "        except FileNotFoundError:\n",
    "            print(f\"The file {inputFilePath} was not found.\")\n",
    "        except Exception as e:\n",
    "            print(f\"An error occurred: {e}\")\n",
    "\n",
    "# Run the engine and read the first game\n",
    "Engine = ChessEngine()\n",
    "Engine.read_first_game('Dataset/original/lichess_db_standard_rated_2013-01.h5')\n"
   ]
  },
  {
   "cell_type": "markdown",
   "metadata": {},
   "source": [
    "# DATA of \n",
    "## Dataset/converted/lichess_db_standard_rated_2015-04.csv\n",
    "\n",
    "### ELO Info\n",
    "    average 1605\n",
    "\n",
    "    \n"
   ]
  },
  {
   "cell_type": "code",
   "execution_count": null,
   "metadata": {},
   "outputs": [],
   "source": [
    "import pandas as pd\n",
    "import os\n",
    "\n",
    "# Get size of the file in bytes\n",
    "file_path = r'C:\\Users\\juraj\\Documents\\GitHub\\ChessPred\\Dataset\\original\\lichess_db_standard_rated_2013-01_result_0_1.csv'\n",
    "print(f\"File size: {os.path.getsize(file_path)} bytes\")\n",
    "\n",
    "# Read the CSV file\n",
    "df = pd.read_csv(file_path)\n",
    "\n",
    "# Check if 'AverageElo' exists and compute the mean\n",
    "if 'AverageElo' in df.columns:\n",
    "    print(f\"Mean AverageElo: {df['AverageElo'].mean()}\")\n",
    "else:\n",
    "    print(\"'AverageElo' column not found in the DataFrame.\")\n",
    "\n",
    "# If 'TimeControl' exists, print unique values\n",
    "if 'TimeControl' in df.columns:\n",
    "    print(f\"Unique values in 'TimeControl': {df['TimeControl'].unique()}\")\n",
    "else:\n",
    "    print(\"'TimeControl' column not found in the DataFrame.\")\n"
   ]
  },
  {
   "cell_type": "code",
   "execution_count": null,
   "metadata": {},
   "outputs": [],
   "source": [
    "l = [\"abcd\"]\n",
    "len(l)"
   ]
  }
 ],
 "metadata": {
  "kernelspec": {
   "display_name": "venv",
   "language": "python",
   "name": "python3"
  },
  "language_info": {
   "codemirror_mode": {
    "name": "ipython",
    "version": 3
   },
   "file_extension": ".py",
   "mimetype": "text/x-python",
   "name": "python",
   "nbconvert_exporter": "python",
   "pygments_lexer": "ipython3",
   "version": "3.12.8"
  }
 },
 "nbformat": 4,
 "nbformat_minor": 2
}
