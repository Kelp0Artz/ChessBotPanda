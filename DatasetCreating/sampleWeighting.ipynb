{
 "cells": [
  {
   "cell_type": "code",
   "execution_count": null,
   "metadata": {},
   "outputs": [],
   "source": [
    "import math\n",
    "import numpy as np\n",
    "def sampleWeights():\n",
    "    array = []\n",
    "    for i in range(1, 3201):\n",
    "        normalized_value = (i - 1) / (3200 - 1)\n",
    "        sigmoid_value = 1 / (1 + math.exp(-12 * (normalized_value - 0.5)))  \n",
    "        array.append(np.float32(sigmoid_value))\n",
    "    \n",
    "    print(array)\n",
    "\n",
    "sampleWeights()\n"
   ]
  }
 ],
 "metadata": {
  "kernelspec": {
   "display_name": "venv",
   "language": "python",
   "name": "python3"
  },
  "language_info": {
   "codemirror_mode": {
    "name": "ipython",
    "version": 3
   },
   "file_extension": ".py",
   "mimetype": "text/x-python",
   "name": "python",
   "nbconvert_exporter": "python",
   "pygments_lexer": "ipython3",
   "version": "3.12.8"
  }
 },
 "nbformat": 4,
 "nbformat_minor": 2
}
