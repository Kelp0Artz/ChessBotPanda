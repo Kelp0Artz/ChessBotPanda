{
 "cells": [
  {
   "cell_type": "code",
   "execution_count": null,
   "metadata": {},
   "outputs": [],
   "source": [
    "import chess\n",
    "import numpy as np\n",
    "def findLegalMove(game):\n",
    "    dict = {\n",
    "        \"a\": 0,\n",
    "        \"b\": 1,\n",
    "        \"c\": 2,\n",
    "        \"d\": 3,\n",
    "        \"e\": 4,\n",
    "        \"f\": 5,\n",
    "        \"g\": 6,\n",
    "        \"h\": 7\n",
    "    }\n",
    "    def encode_move(move):\n",
    "        return [dict[move[0]], int(move[1]) - 1, dict[move[2]], int(move[3]) - 1]\n",
    "    board = chess.Board()\n",
    "    legal_moves = []\n",
    "    for move in game:\n",
    "        board.push_san(move)\n",
    "        legal_move = [board.uci(move) for move in board.legal_moves]\n",
    "        legal_move = list(map(encode_move, legal_move))\n",
    "        legal_moves.append(np.array(legal_move))\n",
    "    return legal_moves\n",
    "\n",
    "findLegalMove([\"e2e4\"])"
   ]
  },
  {
   "cell_type": "code",
   "execution_count": 25,
   "metadata": {},
   "outputs": [
    {
     "name": "stdout",
     "output_type": "stream",
     "text": [
      "{0: [1, 2, 3, 4, 5], 4: [4, 5, 6, 7, 8], 8: [6, 7, 8, 9], 11: [10, 11, 12, 13, 14], 15: [15, 20, 17, 18, 19]}\n",
      "[10, 11, 12, 13]\n"
     ]
    }
   ],
   "source": [
    "nested = [[1, 2, 3, 4, 5], [4, 5,6,7,8], [6, 7, 8, 9,], [10, 11, 12, 13, 14],[15, 20, 17, 18, 19]]\n",
    "\n",
    "def create_map(array):\n",
    "    map = {}\n",
    "    idx = 0\n",
    "    for item in array:\n",
    "        map[idx] = item\n",
    "        idx += len(item)-1\n",
    "    return map\n",
    "print(create_map(nested))\n",
    "\n",
    "def getitem(map, idx): \n",
    "    keys = list(map.keys())\n",
    "   \n",
    "    for key in keys:\n",
    "        if idx > key + len(map[key]) -1 or idx - key - len(map[key]) +1 == 0:\n",
    "            continue\n",
    "        else:\n",
    "            return map[key][0 : idx - key + 2]\n",
    "    return None\n",
    "        \n",
    "        \n",
    "            \n",
    "\n",
    "\n",
    "print(getitem(create_map(nested), 13))"
   ]
  }
 ],
 "metadata": {
  "kernelspec": {
   "display_name": "venv",
   "language": "python",
   "name": "python3"
  },
  "language_info": {
   "codemirror_mode": {
    "name": "ipython",
    "version": 3
   },
   "file_extension": ".py",
   "mimetype": "text/x-python",
   "name": "python",
   "nbconvert_exporter": "python",
   "pygments_lexer": "ipython3",
   "version": "3.12.9"
  }
 },
 "nbformat": 4,
 "nbformat_minor": 2
}
