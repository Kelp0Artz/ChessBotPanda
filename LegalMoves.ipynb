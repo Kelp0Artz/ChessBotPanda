{
 "cells": [
  {
   "cell_type": "code",
   "execution_count": null,
   "metadata": {},
   "outputs": [],
   "source": [
    "import chess\n",
    "import numpy as np\n",
    "def findLegalMove(game):\n",
    "    dict = {\n",
    "        \"a\": 0,\n",
    "        \"b\": 1,\n",
    "        \"c\": 2,\n",
    "        \"d\": 3,\n",
    "        \"e\": 4,\n",
    "        \"f\": 5,\n",
    "        \"g\": 6,\n",
    "        \"h\": 7\n",
    "    }\n",
    "    def encode_move(move):\n",
    "        return [dict[move[0]], int(move[1]) - 1, dict[move[2]], int(move[3]) - 1]\n",
    "    board = chess.Board()\n",
    "    legal_moves = []\n",
    "    for move in game:\n",
    "        board.push_san(move)\n",
    "        legal_move = [board.uci(move) for move in board.legal_moves]\n",
    "        legal_move = list(map(encode_move, legal_move))\n",
    "        legal_moves.append(np.array(legal_move))\n",
    "    return legal_moves\n",
    "\n",
    "findLegalMove([\"e2e4\"])"
   ]
  },
  {
   "cell_type": "code",
   "execution_count": null,
   "metadata": {},
   "outputs": [],
   "source": []
  }
 ],
 "metadata": {
  "kernelspec": {
   "display_name": "venv",
   "language": "python",
   "name": "python3"
  },
  "language_info": {
   "codemirror_mode": {
    "name": "ipython",
    "version": 3
   },
   "file_extension": ".py",
   "mimetype": "text/x-python",
   "name": "python",
   "nbconvert_exporter": "python",
   "pygments_lexer": "ipython3",
   "version": "3.12.8"
  }
 },
 "nbformat": 4,
 "nbformat_minor": 2
}
