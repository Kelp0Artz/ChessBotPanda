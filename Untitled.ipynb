{
 "cells": [
  {
   "cell_type": "code",
   "execution_count": null,
   "id": "01d7228b-537a-40b9-85b9-74bde49f47aa",
   "metadata": {},
   "outputs": [],
   "source": [
    "import chess.pgn\n",
    "import pandas as pd\n",
    "import re  \n",
    "\n",
    "def pgn_to_dataframe(pgn_file):\n",
    "    games = []\n",
    "    num_games = 0\n",
    "    # Open the PGN file\n",
    "    with open(pgn_file, 'r') as f:\n",
    "        while True:\n",
    "            game = chess.pgn.read_game(f)\n",
    "            if game is None:\n",
    "                break  \n",
    "                \n",
    "            site = game.headers.get('Site', '')\n",
    "            match = re.search(r'lichess.org/(\\w+)', site)\n",
    "            site_id = match.group(1) if match else site\n",
    "            \n",
    "            game_data = {\n",
    "                'Event': game.headers.get('Event', ''),\n",
    "                'Site': site_id,  \n",
    "                'UTCDate': game.headers.get('UTCDate', ''),\n",
    "                'UTCTime': game.headers.get('UTCTime', ''),\n",
    "                'White': game.headers.get('White', ''),\n",
    "                'WhiteElo': int(game.headers.get('WhiteElo', '')),\n",
    "                'WhiteRatingDiff': game.headers.get('WhiteRatingDiff', ''),\n",
    "                'Black': game.headers.get('Black', ''),\n",
    "                'BlackElo': int(game.headers.get('BlackElo', '')),\n",
    "                'BlackRatingDiff': game.headers.get('BlackRatingDiff', ''),\n",
    "                'Result': game.headers.get('Result', ''),\n",
    "                'Moves': ' '.join([move.uci() for move in game.mainline()]) \n",
    "            }\n",
    "            \n",
    "            games.append(game_data)\n",
    "            num_games += 1\n",
    "            if num_games % 1000 == 0:\n",
    "                print(num_games)\n",
    "            \n",
    "    \n",
    "\n",
    "    df = pd.DataFrame(games)\n",
    "    return df\n",
    "\n",
    "pgn_file = 'Dataset/lichess_db_standard_rated_2015-04.pgn'  \n",
    "df = pgn_to_dataframe(pgn_file) \n",
    "#print(df['BlackElo'].mean(), df['WhiteElo'].mean())"
   ]
  },
  {
   "cell_type": "code",
   "execution_count": null,
   "id": "45241e17-3ed1-4927-a754-162cfeec724f",
   "metadata": {},
   "outputs": [],
   "source": [
    "df.dtypes"
   ]
  },
  {
   "cell_type": "code",
   "execution_count": null,
   "id": "a04bb35d-520d-4418-8f65-7ef122eb3283",
   "metadata": {},
   "outputs": [],
   "source": [
    "df['BlackElo'].mean(), df['WhiteElo'].mean() "
   ]
  },
  {
   "cell_type": "code",
   "execution_count": null,
   "id": "1327a7fc",
   "metadata": {},
   "outputs": [],
   "source": []
  },
  {
   "cell_type": "code",
   "execution_count": null,
   "id": "c592e7ce-9eb1-41e8-925c-3e6dedc3969a",
   "metadata": {},
   "outputs": [],
   "source": [
    "import chess\n",
    "import chess.engine\n",
    "import time\n",
    "\n",
    "# Path to the Stockfish executable\n",
    "# Make sure Stockfish is installed and the correct path is provided\n",
    "STOCKFISH_PATH = \"C:\\Users\\juraj\\Documents\\stockfish-windows-x86-64-avx2\"  # Update this with the path to your Stockfish executable\n",
    "\n",
    "def evaluate_game(game_pgn):\n",
    "    # Initialize the chess engine\n",
    "    engine = chess.engine.SimpleEngine.popen_uci(STOCKFISH_PATH)\n",
    "\n",
    "    # Load the game from PGN\n",
    "    board = chess.Board()\n",
    "\n",
    "    # Measure the time it takes to evaluate one position\n",
    "    start_time = time.time()\n",
    "\n",
    "    # Go through each move in the game and evaluate it\n",
    "    for move in game_pgn.split():\n",
    "        board.push(chess.Move.from_uci(move))\n",
    "\n",
    "        # Use the engine to evaluate the position after the move\n",
    "        info = engine.analyse(board, chess.engine.Limit(time=0.1))  # 100ms for each position evaluation\n",
    "        # You can adjust the time limit as per your need\n",
    "\n",
    "    # Calculate total time taken\n",
    "    end_time = time.time()\n",
    "    time_taken = end_time - start_time\n",
    "\n",
    "    # Close the engine after evaluation\n",
    "    engine.quit()\n",
    "\n",
    "    return time_taken\n",
    "\n",
    "# Example game PGN (a single game of moves)\n",
    "example_game_pgn = \"e2e4 e7e5 g1f3 b8c6 d2d4 exd4\"\n",
    "\n",
    "# Run the evaluation\n",
    "time_taken = evaluate_game(example_game_pgn)\n",
    "print(f\"Time taken to evaluate the game: {time_taken:.2f} seconds\")\n"
   ]
  }
 ],
 "metadata": {
  "kernelspec": {
   "display_name": "venv",
   "language": "python",
   "name": "python3"
  },
  "language_info": {
   "codemirror_mode": {
    "name": "ipython",
    "version": 3
   },
   "file_extension": ".py",
   "mimetype": "text/x-python",
   "name": "python",
   "nbconvert_exporter": "python",
   "pygments_lexer": "ipython3",
   "version": "3.12.8"
  }
 },
 "nbformat": 4,
 "nbformat_minor": 5
}
